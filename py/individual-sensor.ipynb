{
 "cells": [
  {
   "cell_type": "code",
   "execution_count": null,
   "metadata": {},
   "outputs": [],
   "source": [
    "%reset -f"
   ]
  },
  {
   "cell_type": "code",
   "execution_count": null,
   "metadata": {},
   "outputs": [],
   "source": [
    "import pandas as pd\n",
    "import numpy as np\n",
    "from datetime import datetime, date\n",
    "import matplotlib.pyplot as plt\n",
    "from matplotlib.lines import Line2D\n",
    "from calendar import monthrange\n",
    "from operator import add, sub\n",
    "import re\n",
    "import os"
   ]
  },
  {
   "cell_type": "code",
   "execution_count": null,
   "metadata": {},
   "outputs": [],
   "source": [
    "# Define paths\n",
    "\n",
    "base = os.path.basename(os.getcwd())\n",
    "path = os.path.abspath(os.getcwd())\n",
    "\n",
    "machine = \"windows\"\n",
    "\n",
    "if machine == \"windows\":\n",
    "    mtu_folder = path[:-len(base)] + \"mtu\" + \"\\\\\"\n",
    "    mtu_data = mtu_folder + \"data\" + \"\\\\\"\n",
    "    mtu_file_name = mtu_data + \"MTU_\"\n",
    "    mtu_individual = mtu_folder + \"individual\" + \"\\\\\""
   ]
  },
  {
   "cell_type": "code",
   "execution_count": null,
   "metadata": {},
   "outputs": [],
   "source": [
    "# Select year and month fo analysis\n",
    "\n",
    "month = 12\n",
    "year = 2021\n",
    "days = [str(i).zfill(2) for i in range(1, monthrange(year, month)[1] + 1)]\n",
    "mtu_dict = dict()\n",
    "\n",
    "for item in days:\n",
    "    day_date = date(year,month, int(item))\n",
    "    new_name = mtu_file_name + day_date.strftime(\"%b%d_%Y\").upper() + \".txt\"\n",
    "    mtu_dict[item] = pd.read_csv(new_name, delimiter = \"\\t\")"
   ]
  },
  {
   "cell_type": "code",
   "execution_count": null,
   "metadata": {},
   "outputs": [],
   "source": [
    "# Individual sensor \n",
    "sensors = [\"P\" + str(i) for i in range(1, 73)]\n",
    "\n",
    "# Resolution and size of the figure\n",
    "mydpi = 200\n",
    "ancho = 1920\n",
    "ratio = 10/4\n",
    "\n",
    "# Create a new dataframe for indexing statistical information\n",
    "rows = ['MEDIA [mV]', 'STD [%]', 'MIN [mV]','MAX [mV]']\n",
    "df_relacion = pd.DataFrame(columns= rows, index=days)\n",
    "df_relacion.index.name = 'DÍA'\n",
    "relacion_dict = dict()\n",
    "mean_dict = dict()\n",
    "std_dict = dict()\n",
    "\n",
    "for sensor in sensors:\n",
    "    mean = []\n",
    "    std = []\n",
    "\n",
    "    for day in days:\n",
    "        df_relacion[rows[0]][int(day) - 1] = round(mtu_dict[days[int(day) - 1]][sensor].mean(), 2)\n",
    "        mean.append(mtu_dict[days[int(day) - 1]][sensor].mean())\n",
    "        if mtu_dict[days[int(day) - 1]][sensor].mean() == 0:\n",
    "            df_relacion[rows[1]][int(day) - 1] = round(0, 2)\n",
    "        else:\n",
    "            df_relacion[rows[1]][int(day) - 1] = round(100*((mtu_dict[days[int(day) - 1]][sensor].std())/(mtu_dict[days[int(day) - 1]][sensor].mean())), 2)\n",
    "        std.append(mtu_dict[days[int(day) - 1]][sensor].std())\n",
    "        df_relacion[rows[2]][int(day) - 1] = round(mtu_dict[days[int(day) - 1]][sensor].min(), 2)\n",
    "        df_relacion[rows[3]][int(day) - 1] = round(mtu_dict[days[int(day) - 1]][sensor].max(), 2)\n",
    "    \n",
    "    relacion_dict[sensor] = df_relacion\n",
    "    mean_dict[sensor] = mean\n",
    "    std_dict[sensor] = std\n",
    "    df_relacion.to_excel(mtu_individual + date(year,month, 1).strftime(\"%b_%Y\").upper() + \"\\\\\" + sensor + \".xlsx\")\n",
    "\n",
    "    # Here goes the plot\n",
    "    fig, ax = plt.subplots(1, figsize= ( ancho/mydpi , (ancho/ratio)/mydpi ) , dpi = mydpi)\n",
    "    plt.rcParams.update({'font.family':'Courier New'})\n",
    "    mu1 = mean\n",
    "    sigma1 = std\n",
    "    indices = list(map(int, days))\n",
    "    ax.plot(indices, mu1, lw=2, label='mean population 1', color='blue')\n",
    "    ax.fill_between(indices, list( map(add, mu1, sigma1) ), list( map(sub, mu1, sigma1) ), facecolor='blue', alpha=0.4)\n",
    "    ax.grid()\n",
    "    res = list(map(int,re.findall(r'\\d+', sensor)))\n",
    "    month2 = date(year,month, 1).strftime(\"%b\").upper()\n",
    "    ax.set(xlabel = \"Día\", ylabel = \"Tensión [mV]\", title = f\"Panel {res[0]} - {month2}\", xticks = np.arange(1, int(days[-1]) + 1), xlim = [1, int(days[-1]) + 1])\n",
    "    plt.savefig(mtu_individual + date(year,month, 1).strftime(\"%b_%Y\").upper() + \"\\\\\" + sensor + \".png\")\n",
    "\n",
    "\n"
   ]
  },
  {
   "cell_type": "code",
   "execution_count": null,
   "metadata": {},
   "outputs": [],
   "source": []
  }
 ],
 "metadata": {
  "interpreter": {
   "hash": "c73388f53ecef310d86abc651324adec0e7e08133939e6b50f19f75f98627f71"
  },
  "kernelspec": {
   "display_name": "Python 3.8.8 32-bit (conda)",
   "language": "python",
   "name": "python3"
  },
  "language_info": {
   "codemirror_mode": {
    "name": "ipython",
    "version": 3
   },
   "file_extension": ".py",
   "mimetype": "text/x-python",
   "name": "python",
   "nbconvert_exporter": "python",
   "pygments_lexer": "ipython3",
   "version": "3.8.8"
  },
  "orig_nbformat": 4
 },
 "nbformat": 4,
 "nbformat_minor": 2
}
