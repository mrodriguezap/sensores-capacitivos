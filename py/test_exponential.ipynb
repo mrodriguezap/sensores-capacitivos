{
 "cells": [
  {
   "cell_type": "code",
   "execution_count": null,
   "metadata": {},
   "outputs": [],
   "source": [
    "from pathlib import Path\n",
    "from numpy import log, exp\n",
    "from scipy.optimize.minpack import leastsq\n",
    "import pandas as pd\n",
    "import os"
   ]
  },
  {
   "cell_type": "code",
   "execution_count": null,
   "metadata": {},
   "outputs": [],
   "source": [
    "# Define paths\n",
    "\n",
    "base = os.path.basename(os.getcwd())\n",
    "path = os.path.abspath(os.getcwd())\n",
    "\n",
    "dir_data = path[0:-len(base)] + \"data.csv\"\n",
    "df = pd.read_csv(dir_data)\n"
   ]
  },
  {
   "cell_type": "code",
   "execution_count": null,
   "metadata": {},
   "outputs": [],
   "source": [
    "def _exp(a, b, c, d):\n",
    " return lambda x: a * exp(b * x) + c * exp(d * x)"
   ]
  },
  {
   "cell_type": "code",
   "execution_count": null,
   "metadata": {},
   "outputs": [],
   "source": [
    "## interpolation\n",
    "def interpolate(x, df, fun=_exp):\n",
    " resid = lambda p, x, y: y - fun(*p)(x)\n",
    " ls = leastsq(resid, [1.0, 1.0, 1.0, 1.0], args=(df['x'], df['y']))\n",
    " a, b, c, d = ls[0]\n",
    " y = fun(a, b, c, d)(x)\n",
    " return y"
   ]
  }
 ],
 "metadata": {
  "interpreter": {
   "hash": "44e74b348dece1dc64901d5a7d00e16ba11473e86daeae15ff0ed5d88de1798d"
  },
  "kernelspec": {
   "display_name": "Python 3.8.8 64-bit ('base': conda)",
   "language": "python",
   "name": "python3"
  },
  "language_info": {
   "codemirror_mode": {
    "name": "ipython",
    "version": 3
   },
   "file_extension": ".py",
   "mimetype": "text/x-python",
   "name": "python",
   "nbconvert_exporter": "python",
   "pygments_lexer": "ipython3",
   "version": "3.8.8"
  },
  "orig_nbformat": 4
 },
 "nbformat": 4,
 "nbformat_minor": 2
}
