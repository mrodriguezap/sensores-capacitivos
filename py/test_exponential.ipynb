{
 "cells": [
  {
   "cell_type": "code",
   "execution_count": 10,
   "metadata": {},
   "outputs": [],
   "source": [
    "from pathlib import Path\n",
    "from numpy import log, exp\n",
    "from scipy.optimize.minpack import leastsq\n",
    "import pandas as pd\n",
    "import os"
   ]
  },
  {
   "cell_type": "code",
   "execution_count": 11,
   "metadata": {},
   "outputs": [],
   "source": [
    "# Define paths\n",
    "\n",
    "base = os.path.basename(os.getcwd())\n",
    "path = os.path.abspath(os.getcwd())\n",
    "\n",
    "dir_data = path[0:-len(base)] + \"data.csv\"\n",
    "df = pd.read_csv(dir_data)\n"
   ]
  },
  {
   "cell_type": "code",
   "execution_count": 12,
   "metadata": {},
   "outputs": [],
   "source": [
    "def _exp(a, b, c, d):\n",
    " return lambda x: a * exp(b * x) + c * exp(d * x)"
   ]
  },
  {
   "cell_type": "code",
   "execution_count": 13,
   "metadata": {},
   "outputs": [],
   "source": [
    "## interpolation\n",
    "def interpolate(x, df, fun=_exp):\n",
    " resid = lambda p, x, y: y - fun(*p)(x)\n",
    " ls = leastsq(resid, [1.0, 1.0, 1.0, 1.0], args=(df['x'], df['y']))\n",
    " a, b, c, d = ls[0]\n",
    " y = fun(a, b, c, d)(x)\n",
    " return y"
   ]
  },
  {
   "cell_type": "code",
   "execution_count": 16,
   "metadata": {},
   "outputs": [
    {
     "name": "stdout",
     "output_type": "stream",
     "text": [
      "[ 3.39981418  1.00015853 -3.39981418  1.00015853]\n",
      "-6.646102662428071e+24\n"
     ]
    },
    {
     "data": {
      "image/png": "[encoded data removed]",
      "text/plain": [
       "<Figure size 432x288 with 1 Axes>"
      ]
     },
     "metadata": {
      "needs_background": "light"
     },
     "output_type": "display_data"
    }
   ],
   "source": [
    "import numpy as np\n",
    "import matplotlib.pyplot as plt\n",
    "from scipy.optimize import curve_fit\n",
    "\n",
    "x = df[\"x\"]\n",
    "\n",
    "def func(x, a, b, c, d):\n",
    "    return a * np.exp(b * x) + c * np.exp(d * x)\n",
    "\n",
    "y = df[\"y\"].values # Example exponential data\n",
    "\n",
    "# Here you give the initial parameters for a,b,c which Python then iterates over\n",
    "# to find the best fit\n",
    "popt, pcov = curve_fit(func,x,y)\n",
    "\n",
    "print(popt) # This contains your three best fit parameters\n",
    "\n",
    "p1 = popt[0] # This is your a\n",
    "p2 = popt[1] # This is your b\n",
    "p3 = popt[2] # This is your c\n",
    "p4 = popt[3] # This is your d\n",
    "\n",
    "residuals = y - func(x,p1,p2,p3,p4)\n",
    "fres = sum( (residuals**2)/func(x,p1,p2,p3,p4) ) # The chi-sqaure of your fit\n",
    "\n",
    "print(fres)\n",
    "\n",
    "\"\"\" Now if you need to plot, perform the code below \"\"\"\n",
    "curvey = func(x,p1,p2,p3,p4) # This is your y axis fit-line\n",
    "\n",
    "plt.plot(x, curvey, 'red', label='The best-fit line')\n",
    "plt.scatter(x,y, c='b',label='The data points')\n",
    "plt.legend(loc='best')\n",
    "plt.xlabel('x')\n",
    "plt.ylabel('y')\n",
    "plt.show()"
   ]
  },
  {
   "cell_type": "code",
   "execution_count": null,
   "metadata": {},
   "outputs": [],
   "source": []
  }
 ],
 "metadata": {
  "interpreter": {
   "hash": "44e74b348dece1dc64901d5a7d00e16ba11473e86daeae15ff0ed5d88de1798d"
  },
  "kernelspec": {
   "display_name": "Python 3.8.8 64-bit ('base': conda)",
   "language": "python",
   "name": "python3"
  },
  "language_info": {
   "codemirror_mode": {
    "name": "ipython",
    "version": 3
   },
   "file_extension": ".py",
   "mimetype": "text/x-python",
   "name": "python",
   "nbconvert_exporter": "python",
   "pygments_lexer": "ipython3",
   "version": "3.8.8"
  },
  "orig_nbformat": 4
 },
 "nbformat": 4,
 "nbformat_minor": 2
}
